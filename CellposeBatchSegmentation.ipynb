{
 "cells": [
  {
   "cell_type": "code",
   "execution_count": 1,
   "id": "8b8f53bf",
   "metadata": {},
   "outputs": [],
   "source": [
    "# Cell 1\n",
    "import numpy as np\n",
    "import matplotlib.pyplot as plt\n",
    "from cellpose import models, io, utils\n",
    "from cellpose.io import imread\n",
    "import os"
   ]
  },
  {
   "cell_type": "code",
   "execution_count": 2,
   "id": "45422c0f",
   "metadata": {},
   "outputs": [],
   "source": [
    "#Cell 2\n",
    "# put pathway to your model below:\n",
    "modelpath = \"C:/Users/travermk/.cellpose/models/TatianeE2GFP\"\n",
    "#put pathway to your images below:\n",
    "filepath = \"C:/Users/travermk/Desktop/New folder/C1+C3/\""
   ]
  },
  {
   "cell_type": "code",
   "execution_count": 3,
   "id": "8bbc829b",
   "metadata": {},
   "outputs": [
    {
     "name": "stdout",
     "output_type": "stream",
     "text": [
      "198\n"
     ]
    }
   ],
   "source": [
    "#Cell 3\n",
    "os.chdir(filepath)\n",
    "files = os.listdir()\n",
    "print(len(files)) #the output number should match the number of images in your folder"
   ]
  },
  {
   "cell_type": "code",
   "execution_count": 4,
   "id": "7f782db7",
   "metadata": {},
   "outputs": [],
   "source": [
    "#Cell 4\n",
    "# if you are using GPU, put True, if not, put False\n",
    "# change diam_mean to whatever the best number for your data is\n",
    "model = models.CellposeModel(gpu=True, pretrained_model=modelpath)\n",
    "\n",
    "#model = models.Cellpose(gpu=True, model_type='cyto2')"
   ]
  },
  {
   "cell_type": "code",
   "execution_count": 5,
   "id": "2b8cdab7",
   "metadata": {},
   "outputs": [],
   "source": [
    "#Cell 5\n",
    "# define CHANNELS to run segmentation on\n",
    "# grayscale=0, R=1, G=2, B=3\n",
    "# channels = [cytoplasm, nucleus]\n",
    "# if NUCLEUS channel does not exist, set the second channel to 0\n",
    "channels = [[0,0]]\n",
    "# IF ALL YOUR IMAGES ARE THE SAME TYPE, you can give a list with 2 elements\n",
    "# channels = [0,0] # IF YOU HAVE GRAYSCALE\n",
    "# channels = [2,3] # IF YOU HAVE G=cytoplasm and B=nucleus\n",
    "# channels = [2,1] # IF YOU HAVE G=cytoplasm and R=nucleus"
   ]
  },
  {
   "cell_type": "code",
   "execution_count": 6,
   "id": "dd0a255f",
   "metadata": {},
   "outputs": [],
   "source": [
    "#Cell 6\n",
    "# if diameter is set to None, the size of the cells is estimated on a per image bas\n",
    "# you can set the average cell `diameter` in pixels yourself (recommended)\n",
    "# diameter can be a list or a single number for all images\n",
    "for i in files:\n",
    "    image = io.imread(i)\n",
    "    masks, flows, styles = model.eval(image, diameter=22.0, channels=channels)\n",
    "    io.save_rois(masks, i)"
   ]
  }
 ],
 "metadata": {
  "kernelspec": {
   "display_name": "Python 3 (ipykernel)",
   "language": "python",
   "name": "python3"
  },
  "language_info": {
   "codemirror_mode": {
    "name": "ipython",
    "version": 3
   },
   "file_extension": ".py",
   "mimetype": "text/x-python",
   "name": "python",
   "nbconvert_exporter": "python",
   "pygments_lexer": "ipython3",
   "version": "3.8.17"
  }
 },
 "nbformat": 4,
 "nbformat_minor": 5
}
