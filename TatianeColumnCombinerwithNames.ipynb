{
 "cells": [
  {
   "cell_type": "markdown",
   "id": "12f765db-6c7d-4a97-b653-f2e27d0e545d",
   "metadata": {},
   "source": [
    "#### Import necessary packages:"
   ]
  },
  {
   "cell_type": "code",
   "execution_count": null,
   "id": "8a76ebab-480e-49ec-aa1e-1690088ca851",
   "metadata": {},
   "outputs": [],
   "source": [
    "import numpy as np\n",
    "import pandas as pd\n",
    "import matplotlib.pyplot as plt\n",
    "import os"
   ]
  },
  {
   "cell_type": "markdown",
   "id": "12c0e562-fb14-460a-9517-65cbb681539f",
   "metadata": {},
   "source": [
    "#### Import the .csv file."
   ]
  },
  {
   "cell_type": "markdown",
   "id": "d7fd6b69-b064-4135-a87c-41f42c1a1500",
   "metadata": {},
   "source": [
    "(Make sure to change the variable \"filepath\" to the csv path.)"
   ]
  },
  {
   "cell_type": "code",
   "execution_count": null,
   "id": "f2b3abb8-56c1-4d1a-90b0-b144ffda91f5",
   "metadata": {},
   "outputs": [],
   "source": [
    "filepath = \"C:/Users/travermk/Desktop/New folder\"\n",
    "os.chdir(filepath)\n",
    "data = pd.read_csv(\"YellowResults.csv\", engine = 'c')\n",
    "data.head()"
   ]
  },
  {
   "cell_type": "markdown",
   "id": "ec9c2e91-07cc-4f18-bdf7-5f0a8ff5bb47",
   "metadata": {},
   "source": [
    "#### Describe your data."
   ]
  },
  {
   "cell_type": "markdown",
   "id": "197ccd52-b804-4c40-a5fa-f4be7e156ef1",
   "metadata": {},
   "source": [
    "How many sections do you need to combine, and how long are they?"
   ]
  },
  {
   "cell_type": "code",
   "execution_count": null,
   "id": "ef5a7ee2-e6d1-4f1b-80e3-773d1e88af4a",
   "metadata": {},
   "outputs": [],
   "source": [
    "section_number = 24\n",
    "section_length = 9"
   ]
  },
  {
   "cell_type": "code",
   "execution_count": null,
   "id": "a0b22672-8066-42f9-87be-41bd84792ff6",
   "metadata": {},
   "outputs": [],
   "source": [
    "assert len(data.columns) == section_number * section_length"
   ]
  },
  {
   "cell_type": "markdown",
   "id": "daf8c7bf-c663-4879-99a2-c851ee46b432",
   "metadata": {},
   "source": [
    "#### Combine the columns."
   ]
  },
  {
   "cell_type": "code",
   "execution_count": null,
   "id": "d85abb2d-b1e2-454c-a28f-635d294d9e4d",
   "metadata": {},
   "outputs": [],
   "source": [
    "def column_combiner(dataframe, column_first, column_last):\n",
    "    array = dataframe.iloc[:,column_first-1].to_numpy()\n",
    "    for i in range(column_first, column_last):\n",
    "        column = dataframe.iloc[:,i].to_numpy()\n",
    "        array = np.concatenate((array, column))\n",
    "    array = array[~np.isnan(array)]\n",
    "    return array"
   ]
  },
  {
   "cell_type": "code",
   "execution_count": null,
   "id": "355b92d4-afba-485f-bb10-15353dbaa8cf",
   "metadata": {},
   "outputs": [],
   "source": [
    "results = pd.DataFrame()\n",
    "\n",
    "for n in range(1,section_number+1):\n",
    "    column_combined = column_combiner(data, section_length*n-(section_length-1), section_length*n)\n",
    "    column_combined = pd.Series(column_combined)\n",
    "    results = pd.concat([results,column_combined], axis=1)\n",
    "\n",
    "results"
   ]
  },
  {
   "cell_type": "markdown",
   "id": "c54b8108-71a6-4cc9-b713-d54dd8b390e7",
   "metadata": {},
   "source": [
    "#### Save the new datatable as a CSV."
   ]
  },
  {
   "cell_type": "code",
   "execution_count": null,
   "id": "b5ec7957-f4ae-4b6f-9707-43aaa2c9cd08",
   "metadata": {},
   "outputs": [],
   "source": [
    "results.to_csv('YellowResults_CombinedColumns.csv')"
   ]
  },
  {
   "cell_type": "markdown",
   "id": "8d6ea050-0734-4f81-ac01-b8abb431d9cb",
   "metadata": {},
   "source": [
    "...and you are done!"
   ]
  }
 ],
 "metadata": {
  "kernelspec": {
   "display_name": "Python 3 (ipykernel)",
   "language": "python",
   "name": "python3"
  },
  "language_info": {
   "codemirror_mode": {
    "name": "ipython",
    "version": 3
   },
   "file_extension": ".py",
   "mimetype": "text/x-python",
   "name": "python",
   "nbconvert_exporter": "python",
   "pygments_lexer": "ipython3",
   "version": "3.8.17"
  }
 },
 "nbformat": 4,
 "nbformat_minor": 5
}
